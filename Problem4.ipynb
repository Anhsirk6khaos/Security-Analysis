{
 "cells": [
  {
   "cell_type": "code",
   "execution_count": null,
   "metadata": {
    "id": "PbUZth0zCHyp"
   },
   "outputs": [
    {
     "name": "stdout",
     "output_type": "stream",
     "text": [
      "Collecting torchgan\n",
      "  Downloading torchgan-0.1.0-py3-none-any.whl (71 kB)\n",
      "\u001b[K     |████████████████████████████████| 71 kB 20 kB/s  eta 0:00:01\n",
      "\u001b[?25hRequirement already satisfied: pillow in /home/kali/anaconda3/lib/python3.9/site-packages (from torchgan) (9.0.1)\n",
      "Requirement already satisfied: scipy in /home/kali/anaconda3/lib/python3.9/site-packages (from torchgan) (1.7.3)\n",
      "Collecting torchvision>=0.4\n",
      "  Downloading torchvision-0.14.0-cp39-cp39-manylinux1_x86_64.whl (24.3 MB)\n",
      "\u001b[K     |████████████████████████████████| 24.3 MB 7.0 MB/s eta 0:00:01     |████████████████                | 12.1 MB 9.5 MB/s eta 0:00:02     |██████████████████▉             | 14.3 MB 9.5 MB/s eta 0:00:02     |██████████████████████▊         | 17.2 MB 9.5 MB/s eta 0:00:01     |███████████████████████▋        | 17.9 MB 9.5 MB/s eta 0:00:01     |█████████████████████████████▍  | 22.3 MB 9.5 MB/s eta 0:00:01\n",
      "\u001b[?25hCollecting torch>=1.2\n",
      "  Downloading torch-1.13.0-cp39-cp39-manylinux1_x86_64.whl (890.2 MB)\n"
     ]
    },
    {
     "name": "stdout",
     "output_type": "stream",
     "text": [
      "\u001b[K     |█████▌                          | 153.8 MB 6.2 MB/s eta 0:01:596  |                                | 2.9 MB 3.8 MB/s eta 0:03:56     |▏                               | 4.7 MB 3.8 MB/s eta 0:03:55     |▏                               | 5.4 MB 3.8 MB/s eta 0:03:55     |▍                               | 10.0 MB 3.8 MB/s eta 0:03:54     |▌                               | 14.3 MB 3.6 MB/s eta 0:04:05     |▋                               | 16.8 MB 3.6 MB/s eta 0:04:04     |█                               | 24.8 MB 3.6 MB/s eta 0:04:02     |█▏                              | 33.2 MB 13.1 MB/s eta 0:01:06     |█▏                              | 33.4 MB 13.1 MB/s eta 0:01:06     |█▎                              | 35.3 MB 13.1 MB/s eta 0:01:06     |█▍                              | 37.6 MB 13.1 MB/s eta 0:01:06     |█▍                              | 38.7 MB 13.1 MB/s eta 0:01:06     |█▍                              | 39.6 MB 13.1 MB/s eta 0:01:05     |█▌                              | 41.6 MB 13.6 MB/s eta 0:01:03     |█▋                              | 44.2 MB 13.6 MB/s eta 0:01:03     |█▋                              | 45.3 MB 13.6 MB/s eta 0:01:03     |█▋                              | 46.2 MB 13.6 MB/s eta 0:01:03     |█▊                              | 46.9 MB 13.6 MB/s eta 0:01:02     |█▊                              | 47.5 MB 13.6 MB/s eta 0:01:0202     |██                              | 53.1 MB 1.3 MB/s eta 0:10:34     |██                              | 54.1 MB 1.3 MB/s eta 0:10:33     |██                              | 54.9 MB 1.3 MB/s eta 0:10:32     |██                              | 56.3 MB 1.3 MB/s eta 0:10:31     |██                              | 56.9 MB 1.3 MB/s eta 0:10:31     |██                              | 57.2 MB 1.3 MB/s eta 0:10:30     |██                              | 57.7 MB 8.3 MB/s eta 0:01:41     |██                              | 58.1 MB 8.3 MB/s eta 0:01:40     |██▏                             | 59.2 MB 8.3 MB/s eta 0:01:40     |██▏                             | 59.9 MB 8.3 MB/s eta 0:01:40     |██▏                             | 60.6 MB 967 kB/s eta 0:14:18     |██▏                             | 61.2 MB 967 kB/s eta 0:14:17                       | 64.2 MB 12.9 MB/s eta 0:01:0564.4 MB 12.9 MB/s eta 0:01:05     |██▍                             | 65.5 MB 2.0 MB/s eta 0:06:44     |██▍                             | 67.3 MB 2.0 MB/s eta 0:06:4368.2 MB 2.0 MB/s eta 0:06:43                          | 69.5 MB 1.7 MB/s eta 0:08:0970.2 MB 1.7 MB/s eta 0:08:08     |██▌                             | 70.6 MB 1.7 MB/s eta 0:08:08     |██▌                             | 70.7 MB 1.7 MB/s eta 0:08:08     |██▋                             | 72.4 MB 9.3 MB/s eta 0:01:28     |██▋                             | 73.7 MB 9.3 MB/s eta 0:01:28 MB 499 kB/s eta 0:27:14     |██▊                             | 75.2 MB 499 kB/s eta 0:27:13     |██▊                             | 76.0 MB 499 kB/s eta 0:27:11     |██▊                             | 76.1 MB 499 kB/s eta 0:27:11     |██▊                             | 76.2 MB 499 kB/s eta 0:27:11     |██▊                             | 76.4 MB 499 kB/s eta 0:27:11     |██▊                             | 76.9 MB 499 kB/s eta 0:27:10     |██▊                             | 77.1 MB 8.2 MB/s eta 0:01:40     |██▉                             | 77.5 MB 8.2 MB/s eta 0:01:40     |██▉                             | 77.5 MB 8.2 MB/s eta 0:01:40     |██▉                             | 79.0 MB 214 kB/s eta 1:03:00     |██▉                             | 79.2 MB 214 kB/s eta 1:02:59     |███                             | 81.5 MB 214 kB/s eta 1:02:48     |███                             | 82.1 MB 214 kB/s eta 1:02:45     |███                             | 84.6 MB 214 kB/s eta 1:02:34     |███                             | 85.8 MB 2.8 MB/s eta 0:04:44     |███                             | 86.5 MB 2.8 MB/s eta 0:04:44     |███▎                            | 90.7 MB 2.8 MB/s eta 0:04:43     |███▎                            | 91.4 MB 2.8 MB/s eta 0:04:42     |███▎                            | 92.6 MB 2.8 MB/s eta 0:04:42     |███▍                            | 94.9 MB 2.8 MB/s eta 0:04:41     |███▌                            | 97.3 MB 13.1 MB/s eta 0:01:01     |███▌                            | 98.0 MB 13.1 MB/s eta 0:01:01     |███▋                            | 100.9 MB 13.1 MB/s eta 0:01:01     |███▉                            | 105.5 MB 30.4 MB/s eta 0:00:26     |███▉                            | 106.4 MB 30.4 MB/s eta 0:00:26     |███▉                            | 107.7 MB 30.4 MB/s eta 0:00:26     |████                            | 110.8 MB 30.4 MB/s eta 0:00:26     |████                            | 111.1 MB 30.4 MB/s eta 0:00:26     |████                            | 111.4 MB 30.4 MB/s eta 0:00:26                  | 111.7 MB 30.4 MB/s eta 0:00:26     |████                            | 112.3 MB 30.4 MB/s eta 0:00:26     |████                            | 113.1 MB 2.9 MB/s eta 0:04:28     |████▏                           | 114.9 MB 2.9 MB/s eta 0:04:27     |████▏                           | 115.3 MB 2.9 MB/s eta 0:04:27     |████▏                           | 115.6 MB 2.9 MB/s eta 0:04:27     |████▏                           | 115.8 MB 2.9 MB/s eta 0:04:27     |████▏                           | 116.0 MB 2.9 MB/s eta 0:04:27     |████▏                           | 116.3 MB 2.9 MB/s eta 0:04:26     |████▏                           | 116.5 MB 2.9 MB/s eta 0:04:26     |████▎                           | 119.1 MB 30.6 MB/s eta 0:00:26     |████▎                           | 119.8 MB 30.6 MB/s eta 0:00:26     |████▍                           | 121.8 MB 30.6 MB/s eta 0:00:26     |████▌                           | 123.8 MB 9.4 MB/s eta 0:01:22     |████▌                           | 124.6 MB 9.4 MB/s eta 0:01:22     |████▊                           | 129.9 MB 3.6 MB/s eta 0:03:30     |████▊                           | 130.7 MB 3.6 MB/s eta 0:03:30     |████▊                           | 132.2 MB 3.6 MB/s eta 0:03:30     |████▉                           | 133.5 MB 3.6 MB/s eta 0:03:29     |████▉                           | 133.8 MB 4.3 MB/s eta 0:02:58     |█████                           | 136.0 MB 4.3 MB/s eta 0:02:58     |█████                           | 136.7 MB 4.3 MB/s eta 0:02:57     |█████                           | 137.8 MB 4.3 MB/s eta 0:02:57     |█████                           | 138.1 MB 4.3 MB/s eta 0:02:57     |█████                           | 138.4 MB 4.3 MB/s eta 0:02:57     |█████                           | 139.5 MB 4.3 MB/s eta 0:02:57     |█████                           | 140.2 MB 4.3 MB/s eta 0:02:57     |█████                           | 140.6 MB 2.5 MB/s eta 0:05:01     |█████                           | 141.6 MB 2.5 MB/s eta 0:05:00     |█████▎                          | 145.3 MB 4.2 MB/s eta 0:02:56     |█████▎                          | 147.8 MB 4.2 MB/s eta 0:02:56     |█████▍                          | 148.8 MB 4.2 MB/s eta 0:02:55     |█████▍                          | 149.7 MB 4.2 MB/s eta 0:02:55     |█████▍                          | 151.0 MB 6.2 MB/s eta 0:01:59     |█████▌                          | 153.5 MB 6.2 MB/s eta 0:01:59     |█████▌                          | 153.8 MB 6.2 MB/s eta 0:01:59\r",
      "\u001b[K     |█████▌                          | 153.8 MB 6.2 MB/s eta 0:01:59\r",
      "\u001b[K     |█████▌                          | 153.8 MB 6.2 MB/s eta 0:01:59\r",
      "\u001b[K     |█████▌                          | 153.8 MB 6.2 MB/s eta 0:01:59\r",
      "\u001b[K     |█████▌                          | 153.8 MB 6.2 MB/s eta 0:01:59\r",
      "\u001b[K     |█████▌                          | 153.8 MB 6.2 MB/s eta 0:01:59\r",
      "\u001b[K     |█████▌                          | 153.8 MB 6.2 MB/s eta 0:01:59\r",
      "\u001b[K     |█████▌                          | 153.9 MB 6.2 MB/s eta 0:01:59\r",
      "\u001b[K     |█████▌                          | 153.9 MB 6.2 MB/s eta 0:01:59\r",
      "\u001b[K     |█████▌                          | 153.9 MB 6.2 MB/s eta 0:01:59\r",
      "\u001b[K     |█████▌                          | 153.9 MB 6.2 MB/s eta 0:01:59\r",
      "\u001b[K     |█████▌                          | 153.9 MB 6.2 MB/s eta 0:01:59\r",
      "\u001b[K     |█████▌                          | 153.9 MB 6.2 MB/s eta 0:01:59\r",
      "\u001b[K     |█████▌                          | 153.9 MB 6.2 MB/s eta 0:01:59\r",
      "\u001b[K     |█████▌                          | 153.9 MB 6.2 MB/s eta 0:01:59\r",
      "\u001b[K     |█████▌                          | 153.9 MB 6.2 MB/s eta 0:01:59\r",
      "\u001b[K     |█████▌                          | 153.9 MB 6.2 MB/s eta 0:01:59\r",
      "\u001b[K     |█████▌                          | 154.0 MB 6.2 MB/s eta 0:01:59\r",
      "\u001b[K     |█████▌                          | 154.0 MB 6.2 MB/s eta 0:01:59\r",
      "\u001b[K     |█████▌                          | 154.0 MB 6.2 MB/s eta 0:01:59\r",
      "\u001b[K     |█████▌                          | 154.0 MB 6.2 MB/s eta 0:01:59\r",
      "\u001b[K     |█████▌                          | 154.0 MB 6.2 MB/s eta 0:01:59\r",
      "\u001b[K     |█████▌                          | 154.0 MB 6.2 MB/s eta 0:01:59\r",
      "\u001b[K     |█████▌                          | 154.0 MB 6.2 MB/s eta 0:01:59\r",
      "\u001b[K     |█████▌                          | 154.0 MB 6.2 MB/s eta 0:01:59\r",
      "\u001b[K     |█████▌                          | 154.0 MB 6.2 MB/s eta 0:01:59\r",
      "\u001b[K     |█████▌                          | 154.1 MB 6.2 MB/s eta 0:01:59\r",
      "\u001b[K     |█████▌                          | 154.1 MB 6.2 MB/s eta 0:01:59\r",
      "\u001b[K     |█████▌                          | 154.1 MB 6.2 MB/s eta 0:01:59\r",
      "\u001b[K     |█████▌                          | 154.1 MB 6.2 MB/s eta 0:01:59\r",
      "\u001b[K     |█████▌                          | 154.1 MB 6.2 MB/s eta 0:01:59\r",
      "\u001b[K     |█████▌                          | 154.1 MB 6.2 MB/s eta 0:01:59\r",
      "\u001b[K     |█████▌                          | 154.1 MB 6.2 MB/s eta 0:01:59\r",
      "\u001b[K     |█████▌                          | 154.1 MB 6.2 MB/s eta 0:01:59\r",
      "\u001b[K     |█████▌                          | 154.1 MB 6.2 MB/s eta 0:01:59\r",
      "\u001b[K     |█████▌                          | 154.1 MB 6.2 MB/s eta 0:01:59\r",
      "\u001b[K     |█████▌                          | 154.2 MB 6.2 MB/s eta 0:01:59\r",
      "\u001b[K     |█████▌                          | 154.2 MB 6.2 MB/s eta 0:01:59\r",
      "\u001b[K     |█████▌                          | 154.2 MB 6.2 MB/s eta 0:01:59\r",
      "\u001b[K     |█████▌                          | 154.2 MB 6.2 MB/s eta 0:01:59\r",
      "\u001b[K     |█████▌                          | 154.2 MB 6.2 MB/s eta 0:01:59\r",
      "\u001b[K     |█████▌                          | 154.2 MB 6.2 MB/s eta 0:01:59\r",
      "\u001b[K     |█████▌                          | 154.2 MB 6.2 MB/s eta 0:01:59\r",
      "\u001b[K     |█████▌                          | 154.2 MB 6.2 MB/s eta 0:01:59\r",
      "\u001b[K     |█████▌                          | 154.2 MB 6.2 MB/s eta 0:01:59"
     ]
    },
    {
     "name": "stdout",
     "output_type": "stream",
     "text": [
      "\u001b[K     |██████████████▏                 | 393.4 MB 4.4 MB/s eta 0:01:539    |█████▋                          | 155.5 MB 6.2 MB/s eta 0:01:59     |█████▋                          | 155.7 MB 6.2 MB/s eta 0:01:59     |█████▋                          | 156.6 MB 6.2 MB/s eta 0:01:58     |█████▊                          | 159.2 MB 6.4 MB/s eta 0:01:56     |█████▉                          | 161.7 MB 6.4 MB/s eta 0:01:55     |██████                          | 165.0 MB 6.4 MB/s eta 0:01:55     |██████                          | 165.4 MB 6.4 MB/s eta 0:01:55     |██████                          | 167.0 MB 6.4 MB/s eta 0:01:54MB 13.7 MB/s eta 0:00:53     |██████▍                         | 178.4 MB 13.7 MB/s eta 0:00:52     |██████▌                         | 180.2 MB 13.7 MB/s eta 0:00:52     |██████▋                         | 182.8 MB 13.7 MB/s eta 0:00:52MB 10.5 MB/s eta 0:01:07     |███████                         | 192.0 MB 10.5 MB/s eta 0:01:07     |███████▏                        | 198.6 MB 14.5 MB/s eta 0:00:48     |███████▏                        | 199.3 MB 14.5 MB/s eta 0:00:48��███▌                        | 208.6 MB 24.1 MB/s eta 0:00:29     |███████▌                        | 210.0 MB 24.1 MB/s eta 0:00:29     |███████▌                        | 210.2 MB 24.1 MB/s eta 0:00:29��███▋                        | 211.0 MB 24.1 MB/s eta 0:00:29                  | 211.3 MB 24.1 MB/s eta 0:00:29                | 213.7 MB 2.3 MB/s eta 0:04:54     |███████▊                        | 214.0 MB 2.3 MB/s eta 0:04:54     |███████▊                        | 216.1 MB 2.3 MB/s eta 0:04:53     |███████▉                        | 217.2 MB 2.3 MB/s eta 0:04:52     |███████▉                        | 217.7 MB 2.3 MB/s eta 0:04:52     |███████▉                        | 218.1 MB 7.6 MB/s eta 0:01:29     |███████▉                        | 218.6 MB 7.6 MB/s eta 0:01:29     |███████▉                        | 219.2 MB 7.6 MB/s eta 0:01:29     |████████                        | 219.7 MB 7.6 MB/s eta 0:01:29     |████████▏                       | 228.1 MB 38.5 MB/s eta 0:00:18     |████████▏                       | 228.6 MB 38.5 MB/s eta 0:00:18     |████████▎                       | 229.5 MB 38.5 MB/s eta 0:00:18     |████████▍                       | 232.3 MB 38.5 MB/s eta 0:00:18     |████████▊                       | 241.3 MB 25.0 MB/s eta 0:00:26     |████████▊                       | 243.7 MB 25.0 MB/s eta 0:00:26     |████████▉                       | 245.0 MB 8.2 MB/s eta 0:01:2019[K     |█████████                       | 247.6 MB 8.2 MB/s eta 0:01:19     |█████████                       | 247.7 MB 8.2 MB/s eta 0:01:1934     |█████████                       | 250.8 MB 2.3 MB/s eta 0:04:33     |█████████                       | 252.9 MB 2.3 MB/s eta 0:04:32     |█████████▏                      | 253.7 MB 2.3 MB/s eta 0:04:32               | 253.9 MB 2.3 MB/s eta 0:04:32     |█████████▏                      | 255.2 MB 4.0 MB/s eta 0:02:39     |█████████▎                      | 257.2 MB 4.0 MB/s eta 0:02:38        | 258.8 MB 4.0 MB/s eta 0:02:38|█████████▎                      | 259.4 MB 4.0 MB/s eta 0:02:37     |█████████▍                      | 262.5 MB 4.0 MB/s eta 0:02:37     |█████████▌                      | 264.7 MB 9.8 MB/s eta 0:01:04     |█████████▌                      | 265.0 MB 9.8 MB/s eta 0:01:04     |█████████▌                      | 265.7 MB 9.8 MB/s eta 0:01:04               | 266.8 MB 9.8 MB/s eta 0:01:04     |█████████▋                      | 267.3 MB 9.8 MB/s eta 0:01:04     |█████████▋                      | 267.3 MB 9.8 MB/s eta 0:01:04     |█████████▋                      | 268.5 MB 9.8 MB/s eta 0:01:04     |█████████▊                      | 269.3 MB 9.8 MB/s eta 0:01:04     |█████████▊                      | 269.7 MB 9.8 MB/s eta 0:01:04     |█████████▊                      | 270.6 MB 262 kB/s eta 0:39:17     |█████████▉                      | 272.7 MB 262 kB/s eta 0:39:09     |█████████▉                      | 273.0 MB 1.8 MB/s eta 0:05:50     |█████████▉                      | 273.1 MB 1.8 MB/s eta 0:05:50           | 273.4 MB 1.8 MB/s eta 0:05:50     |█████████▉                      | 274.0 MB 1.8 MB/s eta 0:05:50     |█████████▉                      | 274.4 MB 1.8 MB/s eta 0:05:49     |██████████                      | 278.4 MB 639 kB/s eta 0:15:58     |██████████                      | 279.1 MB 639 kB/s eta 0:15:57     |██████████                      | 279.8 MB 639 kB/s eta 0:15:55     |██████████                      | 280.9 MB 2.2 MB/s eta 0:04:32     |██████████▏                     | 282.9 MB 2.2 MB/s eta 0:04:32     |██████████▏                     | 283.8 MB 2.2 MB/s eta 0:04:31     |██████████▏                     | 284.0 MB 2.2 MB/s eta 0:04:31     |██████████▎                     | 284.7 MB 7.5 MB/s eta 0:01:21     |██████████▎                     | 285.1 MB 7.5 MB/s eta 0:01:21     |██████████▎                     | 285.5 MB 7.5 MB/s eta 0:01:21|██████████▍                     | 287.7 MB 7.5 MB/s eta 0:01:21     |██████████▍                     | 288.6 MB 7.5 MB/s eta 0:01:21     |██████████▋                     | 294.7 MB 14.5 MB/s eta 0:00:42     |██████████▉                     | 302.7 MB 14.5 MB/s eta 0:00:41     |███████████▍                    | 316.7 MB 13.7 MB/s eta 0:00:42█▌                    | 318.6 MB 13.7 MB/s eta 0:00:42     |███████████▌                    | 320.7 MB 3.7 MB/s eta 0:02:33     |███████████▋                    | 322.7 MB 3.7 MB/s eta 0:02:32     |███████████▉                    | 328.5 MB 3.7 MB/s eta 0:02:31     |███████████▉                    | 329.6 MB 8.5 MB/s eta 0:01:06  | 329.8 MB 8.5 MB/s eta 0:01:06�█████▉                    | 330.0 MB 8.5 MB/s eta 0:01:06     |████████████                    | 332.7 MB 8.5 MB/s eta 0:01:06|████████████                    | 334.6 MB 8.5 MB/s eta 0:01:06     |████████████                    | 335.9 MB 8.5 MB/s eta 0:01:06�████████▎                   | 342.4 MB 8.5 MB/s eta 0:01:05     |████████████▍                   | 343.7 MB 8.5 MB/s eta 0:01:05     |████████████▍                   | 344.1 MB 8.5 MB/s eta 0:01:05     |████████████▍                   | 344.9 MB 14.0 MB/s eta 0:00:39██▉                   | 358.0 MB 2.6 MB/s eta 0:03:27     |█████████████                   | 360.1 MB 2.6 MB/s eta 0:03:26     |█████████████                   | 363.8 MB 2.6 MB/s eta 0:03:25     |█████████████                   | 364.5 MB 2.6 MB/s eta 0:03:252.6 MB/s eta 0:03:242.6 MB/s eta 0:03:24     |█████████████▎                  | 368.4 MB 5.3 MB/s eta 0:01:38     |█████████████▎                  | 370.3 MB 5.3 MB/s eta 0:01:38     |█████████████▍                  | 373.1 MB 5.3 MB/s eta 0:01:38     |█████████████▋                  | 377.1 MB 5.3 MB/s eta 0:01:37     |█████████████▋                  | 377.2 MB 5.3 MB/s eta 0:01:37     |█████████████▋                  | 377.4 MB 5.3 MB/s eta 0:01:37     |█████████████▋                  | 377.8 MB 5.3 MB/s eta 0:01:37     |█████████████▋                  | 378.1 MB 5.3 MB/s eta 0:01:37     |█████████████▋                  | 378.6 MB 8.9 MB/s eta 0:00:58     |█████████████▋                  | 378.9 MB 8.9 MB/s eta 0:00:58     |█████████████▋                  | 379.4 MB 8.9 MB/s eta 0:00:58     |█████████████▋                  | 379.7 MB 8.9 MB/s eta 0:00:58     |█████████████▊                  | 382.1 MB 8.9 MB/s eta 0:00:58     |█████████████▉                  | 383.9 MB 8.9 MB/s eta 0:00:57     |█████████████▉                  | 384.7 MB 8.9 MB/s eta 0:00:57     |██████████████                  | 386.4 MB 3.5 MB/s eta 0:02:24     |██████████████                  | 387.3 MB 3.5 MB/s eta 0:02:24     |██████████████                  | 387.8 MB 3.5 MB/s eta 0:02:24     |██████████████                  | 388.2 MB 3.5 MB/s eta 0:02:23     |██████████████                  | 390.0 MB 3.5 MB/s eta 0:02:23MB/s eta 0:02:23     |██████████████                  | 390.6 MB 3.5 MB/s eta 0:02:23     |██████████████                  | 390.7 MB 3.5 MB/s eta 0:02:23     |██████████████                  | 391.0 MB 3.5 MB/s eta 0:02:23     |██████████████                  | 391.8 MB 3.5 MB/s eta 0:02:22     |██████████████▏                 | 393.3 MB 3.5 MB/s eta 0:02:22"
     ]
    },
    {
     "name": "stdout",
     "output_type": "stream",
     "text": [
      "\u001b[K     |████████████████████            | 557.7 MB 4.6 MB/s eta 0:01:128    |██████████████▏                 | 394.0 MB 4.4 MB/s eta 0:01:53     |██████████████▏                 | 394.1 MB 4.4 MB/s eta 0:01:53     |██████████████▏                 | 394.3 MB 4.4 MB/s eta 0:01:53     |██████████████▎                 | 396.4 MB 4.4 MB/s eta 0:01:53     |██████████████▍                 | 399.3 MB 74.0 MB/s eta 0:00:07| 403.0 MB 74.0 MB/s eta 0:00:07████▌                 | 403.6 MB 74.0 MB/s eta 0:00:07     |██████████████▋                 | 404.9 MB 520 kB/s eta 0:15:32     |██████████████▋                 | 407.9 MB 520 kB/s eta 0:15:27     |██████████████▉                 | 411.9 MB 520 kB/s eta 0:15:19     |███████████████                 | 418.1 MB 4.6 MB/s eta 0:01:42     |███████████████                 | 419.6 MB 4.6 MB/s eta 0:01:42     |███████████████▏                | 420.6 MB 4.6 MB/s eta 0:01:41     |███████████████▏                | 421.5 MB 4.6 MB/s eta 0:01:41     |███████████████▏                | 422.9 MB 4.6 MB/s eta 0:01:41     |███████████████▎                | 423.8 MB 4.6 MB/s eta 0:01:41     |████████████████                | 442.3 MB 374 kB/s eta 0:19:56     |████████████████                | 442.9 MB 374 kB/s eta 0:19:55     |████████████████                | 444.7 MB 374 kB/s eta 0:19:50     |████████████████▏               | 448.3 MB 374 kB/s eta 0:19:41     |████████████████▌               | 459.4 MB 1.1 MB/s eta 0:06:44     |████████████████▌               | 460.1 MB 1.1 MB/s eta 0:06:43     |████████████████▉               | 467.7 MB 7.2 MB/s eta 0:01:00     |█████████████████               | 470.5 MB 7.2 MB/s eta 0:00:59     |█████████████████               | 472.8 MB 7.2 MB/s eta 0:00:59     |█████████████████               | 475.4 MB 7.2 MB/s eta 0:00:58��███████▎              | 480.8 MB 5.6 MB/s eta 0:01:14  | 483.9 MB 5.6 MB/s eta 0:01:14    |█████████████████▍              | 484.1 MB 5.6 MB/s eta 0:01:14██████▌              | 487.2 MB 5.6 MB/s eta 0:01:13  | 492.7 MB 5.6 MB/s eta 0:01:12     |█████████████████▊              | 494.5 MB 22.1 MB/s eta 0:00:18     |█████████████████▉              | 494.8 MB 22.1 MB/s eta 0:00:18     |█████████████████▉              | 495.5 MB 22.1 MB/s eta 0:00:18     |█████████████████▉              | 496.5 MB 22.1 MB/s eta 0:00:18��██████████████              | 497.7 MB 22.1 MB/s eta 0:00:18��██████████████              | 499.5 MB 22.1 MB/s eta 0:00:18     |██████████████████▎             | 509.4 MB 10.0 MB/s eta 0:00:39MB/s eta 0:00:38     |███████████████████             | 529.8 MB 20.1 MB/s eta 0:00:18MB/s eta 0:00:18     |███████████████████▎            | 536.5 MB 20.1 MB/s eta 0:00:18   | 543.8 MB 1.4 MB/s eta 0:04:09     |███████████████████▋            | 546.7 MB 1.4 MB/s eta 0:04:06     |███████████████████▊            | 549.7 MB 8.4 MB/s eta 0:00:41     |████████████████████            | 554.2 MB 8.4 MB/s eta 0:00:40   | 554.4 MB 8.4 MB/s eta 0:00:40�████████            | 554.6 MB 8.4 MB/s eta 0:00:40████████████████            | 555.3 MB 8.4 MB/s eta 0:00:40     |████████████████████            | 556.6 MB 8.4 MB/s eta 0:00:40"
     ]
    }
   ],
   "source": [
    "! pip install torchgan\n",
    "# Imports\n",
    "import keras\n",
    "import random\n",
    "import numpy as np\n",
    "import matplotlib.pyplot as plt\n",
    "\n",
    "# Pytorch and Torchvision Imports\n",
    "import torch\n",
    "import torch.nn as nn\n",
    "import torchvision\n",
    "from torch.optim import Adam\n",
    "import torch.nn as nn\n",
    "import torch.utils.data as data\n",
    "import torchvision.datasets as dsets\n",
    "import torchvision.transforms as transforms\n",
    "import torchvision.utils as vutils\n",
    "from torchgan.metrics import *\n",
    "\n",
    "# Torchgan Imports\n",
    "import torchgan\n",
    "from torchgan.models import *\n",
    "from torchgan.losses import *\n",
    "from torchgan.trainer import Trainer\n"
   ]
  },
  {
   "cell_type": "markdown",
   "metadata": {
    "id": "VwamUjU3CHyu"
   },
   "source": [
    "## Loading the MINST dataset"
   ]
  },
  {
   "cell_type": "code",
   "execution_count": null,
   "metadata": {
    "id": "aLyDYPQ5CHyw"
   },
   "outputs": [],
   "source": [
    "dataset = dsets.MNIST(\n",
    "    root=\"./mnist\",\n",
    "    train=True,\n",
    "    transform=transforms.Compose(\n",
    "        [\n",
    "            transforms.Resize((32, 32)),\n",
    "            transforms.ToTensor(),\n",
    "            transforms.Normalize(mean=(0.5,), std=(0.5,)),\n",
    "        ]\n",
    "    ),\n",
    "    download=True,\n",
    ")\n",
    "dataloader = None"
   ]
  },
  {
   "cell_type": "code",
   "execution_count": null,
   "metadata": {
    "id": "zWCN9WXDCHyy"
   },
   "outputs": [],
   "source": [
    "# Plot some of the training images\n",
    "real_batch = next(iter(dataloader))\n",
    "plt.figure(figsize=(8, 8))\n",
    "plt.axis(\"off\")\n",
    "plt.title(\"Training Images\")\n",
    "plt.imshow(\n",
    "    np.transpose(vutils.make_grid(real_batch[0][:64], padding=2, normalize=True).cpu(), (1, 2, 0))\n",
    ")\n",
    "plt.show()"
   ]
  },
  {
   "cell_type": "markdown",
   "metadata": {
    "id": "PtZlrTtqOueE"
   },
   "source": [
    "## Part 1 - DCGAN Network "
   ]
  },
  {
   "cell_type": "code",
   "execution_count": null,
   "metadata": {
    "id": "9gjL16arCHyx"
   },
   "outputs": [],
   "source": [
    "# Setting up the DCGAN model \n",
    "dcgan_network = {\n",
    "    \"generator\": {None\n",
    "    },\n",
    "    \"discriminator\": {None\n",
    "    },\n",
    "}"
   ]
  },
  {
   "cell_type": "code",
   "execution_count": null,
   "metadata": {
    "id": "XENqmmySCHyy"
   },
   "outputs": [],
   "source": [
    "# Defining the loss for DCGAN. The chosen Loss type is leasr square method.\n",
    "lsgan_losses = None"
   ]
  },
  {
   "cell_type": "markdown",
   "metadata": {
    "id": "UaSHPTL5P1Ch"
   },
   "source": [
    "Training the DCGAN network."
   ]
  },
  {
   "cell_type": "code",
   "execution_count": null,
   "metadata": {
    "id": "LDzsJTloCHy0"
   },
   "outputs": [],
   "source": [
    "# Training the DCGAN network\n",
    "trainer = None\n",
    "trainer(dataloader)\n"
   ]
  },
  {
   "cell_type": "code",
   "execution_count": null,
   "metadata": {
    "id": "Cn-bSi25CHy2"
   },
   "outputs": [],
   "source": [
    "# Visual comparison of the real and the fake images. \n",
    "\n",
    "# Grab a batch of real images from the dataloader\n",
    "real_batch = next(iter(dataloader))\n",
    "device = torch.device(\"cuda:0\")\n",
    "# Plot the real images\n",
    "plt.figure(figsize=(10, 10))\n",
    "plt.subplot(1, 2, 1)\n",
    "plt.axis(\"off\")\n",
    "plt.title(\"Real Images\")\n",
    "plt.imshow(np.transpose(vutils.make_grid(real_batch[0].to(device)[:64], padding=5, normalize=True).cpu(),(1, 2, 0),))\n",
    "\n",
    "# Plot the fake images from the last epoch\n",
    "plt.subplot(1, 2, 2)\n",
    "plt.axis(\"off\")\n",
    "plt.title(\"Fake Images\")\n",
    "plt.imshow(plt.imread(None))\n",
    "plt.show()"
   ]
  },
  {
   "cell_type": "markdown",
   "metadata": {
    "id": "SoluUqALP6PY"
   },
   "source": [
    "Accuracy of our trained DCGAN network"
   ]
  },
  {
   "cell_type": "code",
   "execution_count": null,
   "metadata": {
    "id": "MthEGPdkDBL0"
   },
   "outputs": [],
   "source": [
    "# Accuracy of Descriminator on fake images \n",
    "# Generate 100 fake images for testing model accuracy\n",
    "\n",
    "# Randomly initialize the 100 images\n",
    "x = None\n",
    "\n",
    "# Pass the images to the generator to generate the random images\n",
    "out_gen = trainer.generator.forward(x)\n",
    "\n",
    "# Plot the random images generated\n",
    "plt.figure(figsize=(10, 10))\n",
    "plt.imshow(None)\n",
    "plt.title(\"Generated fake images\")\n",
    "plt.show()\n",
    "\n",
    "# Get the discriminator prediction of these images \n",
    "out_disc = trainer.discriminator.forward(out_gen)\n",
    "\n",
    "# Compute accuracy based on these predictions\n",
    "out_disc_np = out_disc.cpu().detach().numpy()\n",
    "condition = out_disc_np < 0.5\n",
    "accuracy = np.extract(None)\n",
    "accuracy_fake = None\n",
    "print(\"Accuracy of the model on fake images = \" ,  accuracy_fake)\n"
   ]
  },
  {
   "cell_type": "code",
   "execution_count": null,
   "metadata": {
    "id": "cM5V1FfjHXca"
   },
   "outputs": [],
   "source": [
    "#Testing accuracy of benign inputs by choosing random samples from the actual dataset\n",
    "\n",
    "i = 0\n",
    "# Load batches of 64 images 100 times to get accuracy\n",
    "correct_detection = 0 \n",
    "while (i<100):\n",
    "  real_batch = next(iter(dataloader))\n",
    "  out_disc = trainer.discriminator.forward(real_batch[0].to(torch.device(\"cuda:0\")))\n",
    "  out_disc_np = out_disc.cpu().detach().numpy()\n",
    "  condition = out_disc_np > 0.5\n",
    "  accuracy = np.extract(None)\n",
    "  correct_detection = None\n",
    "  i = i+1\n",
    "accuracy_benign = None\n",
    "print (\"Accuracy of Descriminator on benign samples = \" , None)"
   ]
  },
  {
   "cell_type": "code",
   "execution_count": null,
   "metadata": {
    "id": "f7WQERWNTuyF"
   },
   "outputs": [],
   "source": [
    "# Total accuracy of the discriminator \n",
    "\n",
    "total_accuracy = None\n",
    "print (\"Accuracy of the Discriminator = \", None)"
   ]
  },
  {
   "cell_type": "code",
   "execution_count": null,
   "metadata": {
    "id": "aCAx_OtKCHy4"
   },
   "outputs": [],
   "source": [
    "# Computing the accuracy of Generator.\n",
    "# Accuracy of the generator is computed using Inspection score which is a score of how accurately can human eyes identify the images as real.\n",
    "\n",
    "acc_generator = torchgan.metrics.ClassifierScore()\n",
    "acc_generator.classifier=trainer.generator\n",
    "score = None\n",
    "print(\"Inspector score for DCGAN: \" , None)"
   ]
  },
  {
   "cell_type": "markdown",
   "metadata": {
    "id": "ki_fNysDXGrM"
   },
   "source": [
    "## Part 2 - CGAN Network "
   ]
  },
  {
   "cell_type": "code",
   "execution_count": null,
   "metadata": {
    "id": "tmfSLmDvPWc0"
   },
   "outputs": [],
   "source": [
    "# Setting up the CGAN model \n",
    "cgan_network = {\n",
    "    \"generator\": {None\n",
    "    },\n",
    "    \"discriminator\": {None\n",
    "    },\n",
    "}"
   ]
  },
  {
   "cell_type": "markdown",
   "metadata": {
    "id": "npDvc4pFYnmr"
   },
   "source": [
    "Training the CGAN network."
   ]
  },
  {
   "cell_type": "code",
   "execution_count": null,
   "metadata": {
    "id": "LWjThYESCHy5"
   },
   "outputs": [],
   "source": [
    "# Training the CGAN network\n",
    "trainer_cgan = Trainer(None)\n",
    "trainer_cgan(dataloader)"
   ]
  },
  {
   "cell_type": "code",
   "execution_count": null,
   "metadata": {
    "id": "cHNd_LkUT4ja"
   },
   "outputs": [],
   "source": [
    "# Visual comparison of the real and the fake images.\n",
    "# Grab a batch of real images from the dataloader\n",
    "real_batch = next(iter(dataloader))\n",
    "# Plot the real images\n",
    "plt.figure(figsize=(10, 10))\n",
    "plt.subplot(1, 2, 1)\n",
    "plt.axis(\"off\")\n",
    "plt.title(\"Real Images\")\n",
    "plt.imshow(np.transpose(vutils.make_grid(real_batch[0].to(device)[:64], padding=5, normalize=True).cpu(),(1, 2, 0),))\n",
    "\n",
    "# Plot the fake images from the last epoch\n",
    "plt.subplot(1, 2, 2)\n",
    "plt.axis(\"off\")\n",
    "plt.title(\"Fake Images\")\n",
    "plt.imshow(plt.imread(None))\n",
    "plt.show()"
   ]
  },
  {
   "cell_type": "markdown",
   "metadata": {
    "id": "pkZIEJKaY3FD"
   },
   "source": [
    "Accuracy of our trained CGAN network"
   ]
  },
  {
   "cell_type": "code",
   "execution_count": null,
   "metadata": {
    "id": "-CBeZBSsNT3J"
   },
   "outputs": [],
   "source": [
    "# Accuracy of Descriminator on fake images \n",
    "# Generate 100 fake images for testing model accuracy\n",
    "\n",
    "# Randomly initialize the 100 images\n",
    "x = None\n",
    "# Generate labels for the images \n",
    "y = None\n",
    "\n",
    "# Pass the images to the generator to generate the random images\n",
    "out_gen = trainer.generator.forward(x, y)\n",
    "\n",
    "# Plot the random images generated\n",
    "plt.figure(figsize=(10, 10))\n",
    "plt.imshow(None)\n",
    "plt.show()\n",
    "\n",
    "\n",
    "# Get the discriminator prediction of these images \n",
    "out_disc = trainer.discriminator.forward(out_gen, y)\n",
    "\n",
    "# Compute accuracy based on these predictions\n",
    "out_disc_np = out_disc.cpu().detach().numpy()\n",
    "condition = out_disc_np < 0.5\n",
    "accuracy = np.extract(condition, out_disc_np)\n",
    "accuracy_fake = accuracy.size\n",
    "print(\"Accuracy of the model on fake images = \" ,  accuracy_fake)"
   ]
  },
  {
   "cell_type": "code",
   "execution_count": null,
   "metadata": {
    "id": "h1BywpHJN9Qh"
   },
   "outputs": [],
   "source": [
    "#Testing accuracy of benign inputs by choosing random samples from the actual dataset\n",
    "\n",
    "i = 0\n",
    "# Load batches of 64 images 100 times to get accuracy\n",
    "correct_detection = 0 \n",
    "while (i<100):\n",
    "  real_batch = next(iter(dataloader))\n",
    "  out_disc = trainer.discriminator.forward(real_batch[0].to(torch.device(\"cuda:0\")), real_batch[1])\n",
    "  out_disc_np = out_disc.cpu().detach().numpy()\n",
    "  condition = out_disc_np > 0.5\n",
    "  accuracy = np.extract(None)\n",
    "  correct_detection = None\n",
    "  i = i+1\n",
    "accuracy_benign = None\n",
    "print (\"Accuracy of Descriminator on benign samples = \" , None)"
   ]
  },
  {
   "cell_type": "code",
   "execution_count": null,
   "metadata": {
    "id": "7Wv64k6HamRt"
   },
   "outputs": [],
   "source": [
    "# Total accuracy of the discriminator \n",
    "\n",
    "total_accuracy = None\n",
    "print (\"Accuracy of the Discriminator = \", None)"
   ]
  },
  {
   "cell_type": "code",
   "execution_count": null,
   "metadata": {
    "id": "W2rlf2PFXo1H"
   },
   "outputs": [],
   "source": [
    "# Computing the accuracy of Generator.\n",
    "# Accuracy of the generator is computed using Inspection score which is a score of how accurately can human eyes identify the images as real.\n",
    "\n",
    "acc_generator = torchgan.metrics.ClassifierScore()\n",
    "acc_generator.classifier=trainer_cgan.generator\n",
    "\n",
    "score = None\n",
    "print(\"Inspector score for DCGAN: \" , None)"
   ]
  },
  {
   "cell_type": "code",
   "execution_count": null,
   "metadata": {},
   "outputs": [],
   "source": []
  }
 ],
 "metadata": {
  "accelerator": "GPU",
  "colab": {
   "collapsed_sections": [],
   "name": "Problem.ipynb",
   "provenance": []
  },
  "kernelspec": {
   "display_name": "Python 3 (ipykernel)",
   "language": "python",
   "name": "python3"
  },
  "language_info": {
   "codemirror_mode": {
    "name": "ipython",
    "version": 3
   },
   "file_extension": ".py",
   "mimetype": "text/x-python",
   "name": "python",
   "nbconvert_exporter": "python",
   "pygments_lexer": "ipython3",
   "version": "3.9.12"
  }
 },
 "nbformat": 4,
 "nbformat_minor": 1
}
